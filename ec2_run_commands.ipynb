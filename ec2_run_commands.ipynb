{
 "cells": [
  {
   "cell_type": "markdown",
   "id": "70a82bd4-7e6c-46c3-95e8-52fb231d6f27",
   "metadata": {},
   "source": [
    "# running EC2 commands via boto3\n",
    "\n",
    "Boto3 SSM documentation:\n",
    "https://boto3.amazonaws.com/v1/documentation/api/latest/reference/services/ssm.html#SSM.Client.send_command\n",
    "\n",
    "AWS EC2 instances:\n",
    "https://console.aws.amazon.com/ec2/v2/home?region=us-east-1#Instances:\n",
    "\n",
    "Couple of gotchas while POCing:\n",
    "  * required install of SSM on EC2: https://docs.aws.amazon.com/systems-manager/latest/userguide/agent-install-al2.html\n",
    "  * required IAM permissions for SSM: https://docs.aws.amazon.com/systems-manager/latest/userguide/setup-instance-profile.html\n",
    "  * seemed to require a reboot"
   ]
  },
  {
   "cell_type": "code",
   "execution_count": 2,
   "id": "8b46d074-3043-4f88-b811-c3c57d42295b",
   "metadata": {},
   "outputs": [],
   "source": [
    "import time\n",
    "import boto3"
   ]
  },
  {
   "cell_type": "code",
   "execution_count": 3,
   "id": "34d7079b-651a-4a84-a5a7-8ca62067c865",
   "metadata": {},
   "outputs": [],
   "source": [
    "# init boto3 SSM client\n",
    "client = boto3.client('ssm', region_name='us-east-1')"
   ]
  },
  {
   "cell_type": "code",
   "execution_count": 5,
   "id": "13413fd9-9fdc-43c5-866e-9eae21613a5b",
   "metadata": {},
   "outputs": [
    {
     "data": {
      "text/plain": "{'Command': {'CommandId': '61d70d45-9932-4bff-95df-a097bfa17094',\n  'DocumentName': 'AWS-RunShellScript',\n  'DocumentVersion': '$DEFAULT',\n  'Comment': '',\n  'ExpiresAfter': datetime.datetime(2022, 1, 16, 15, 45, 40, 358000, tzinfo=tzlocal()),\n  'Parameters': {'commands': [\"echo 'hello world'\"]},\n  'InstanceIds': ['i-07a0c73b0ceb6ce87'],\n  'Targets': [],\n  'RequestedDateTime': datetime.datetime(2022, 1, 16, 13, 45, 40, 358000, tzinfo=tzlocal()),\n  'Status': 'Pending',\n  'StatusDetails': 'Pending',\n  'OutputS3Region': 'us-east-1',\n  'OutputS3BucketName': '',\n  'OutputS3KeyPrefix': '',\n  'MaxConcurrency': '50',\n  'MaxErrors': '0',\n  'TargetCount': 1,\n  'CompletedCount': 0,\n  'ErrorCount': 0,\n  'DeliveryTimedOutCount': 0,\n  'ServiceRole': '',\n  'NotificationConfig': {'NotificationArn': '',\n   'NotificationEvents': [],\n   'NotificationType': ''},\n  'CloudWatchOutputConfig': {'CloudWatchLogGroupName': '',\n   'CloudWatchOutputEnabled': False},\n  'TimeoutSeconds': 3600},\n 'ResponseMetadata': {'RequestId': '38c84caf-0786-46fb-b173-c23c64629208',\n  'HTTPStatusCode': 200,\n  'HTTPHeaders': {'server': 'Server',\n   'date': 'Sun, 16 Jan 2022 12:45:40 GMT',\n   'content-type': 'application/x-amz-json-1.1',\n   'content-length': '818',\n   'connection': 'keep-alive',\n   'x-amzn-requestid': '38c84caf-0786-46fb-b173-c23c64629208'},\n  'RetryAttempts': 0}}"
     },
     "metadata": {},
     "output_type": "display_data"
    }
   ],
   "source": [
    "# send hello world\n",
    "results = client.send_command(\n",
    "    InstanceIds=[\"i-07a0c73b0ceb6ce87\"],\n",
    "    DocumentName=\"AWS-RunShellScript\",\n",
    "    Parameters={\"commands\": [\"echo 'hello world'\"]},\n",
    ")\n",
    "display(results)"
   ]
  },
  {
   "cell_type": "code",
   "execution_count": null,
   "id": "0ca3654e-afbb-46bf-a21b-fdc70388a521",
   "metadata": {},
   "outputs": [],
   "source": [
    "results"
   ]
  },
  {
   "cell_type": "code",
   "execution_count": 6,
   "id": "ca76364e-f887-4b52-b794-3f7c1eb1e99a",
   "metadata": {},
   "outputs": [
    {
     "data": {
      "text/plain": "{'CommandId': '4c43e368-523f-4c06-a35e-e4a4de27b857',\n 'InstanceId': 'i-07a0c73b0ceb6ce87',\n 'Comment': '',\n 'DocumentName': 'AWS-RunShellScript',\n 'DocumentVersion': '$DEFAULT',\n 'PluginName': 'aws:runShellScript',\n 'ResponseCode': 0,\n 'ExecutionStartDateTime': '2022-01-15T08:06:21.422Z',\n 'ExecutionElapsedTime': 'PT0.038S',\n 'ExecutionEndDateTime': '2022-01-15T08:06:21.422Z',\n 'Status': 'Success',\n 'StatusDetails': 'Success',\n 'StandardOutputContent': 'hello world\\n',\n 'StandardOutputUrl': '',\n 'StandardErrorContent': '',\n 'StandardErrorUrl': '',\n 'CloudWatchOutputConfig': {'CloudWatchLogGroupName': '',\n  'CloudWatchOutputEnabled': False},\n 'ResponseMetadata': {'RequestId': '5579256e-0045-4ea5-ab89-1541e8360f6e',\n  'HTTPStatusCode': 200,\n  'HTTPHeaders': {'server': 'Server',\n   'date': 'Sun, 16 Jan 2022 12:46:15 GMT',\n   'content-type': 'application/x-amz-json-1.1',\n   'content-length': '595',\n   'connection': 'keep-alive',\n   'x-amzn-requestid': '5579256e-0045-4ea5-ab89-1541e8360f6e'},\n  'RetryAttempts': 0}}"
     },
     "metadata": {},
     "output_type": "display_data"
    }
   ],
   "source": [
    "# get results of command (noting this won't be needed mostly)\n",
    "results = client.get_command_invocation(\n",
    "    InstanceId=\"i-07a0c73b0ceb6ce87\",\n",
    "    CommandId=\"4c43e368-523f-4c06-a35e-e4a4de27b857\"\n",
    ")\n",
    "display(results)"
   ]
  },
  {
   "cell_type": "markdown",
   "id": "3093a45d-97d7-453f-9781-8f09b2a1c270",
   "metadata": {},
   "source": [
    "## notes on using SSM for issuing Kafka CLI commands on EC2 \n",
    "\n",
    "First pass at running Kafka CLI command failed due to following permission error:\n",
    "\n",
    "```\n",
    "An error occurred (AccessDeniedException) when calling the DescribeCluster operation: User: arn:aws:sts::007385147054:assumed-role/SSMInstanceProfile/i-07a0c73b0ceb6ce87 is not authorized to perform: kafka:DescribeCluster on resource: arn:aws:kafka:us-east-1:007385147054:cluster/poc-cluster-1/7a7a5d89-0d30-4a3c-94ab-b6c4f18c0fc0-21\\nfailed to run commands: exit status 255\n",
    "```\n",
    "\n",
    "This was resolved by granting more IAM permissions to the profile -- `arn:aws:iam::007385147054:role/SSMInstanceProfile` -- that was granted to the ECS machine that allowed SSM commands. "
   ]
  },
  {
   "cell_type": "code",
   "execution_count": 8,
   "id": "42a6ad3d-3daf-4bdc-8db2-5ca2b8d5d316",
   "metadata": {},
   "outputs": [
    {
     "data": {
      "text/plain": "'{\\n    \"ClusterInfo\": {\\n        \"LoggingInfo\": {\\n            \"BrokerLogs\": {\\n                \"S3\": {\\n                    \"Enabled\": false\\n                }, \\n                \"Firehose\": {\\n                    \"Enabled\": false\\n                }, \\n                \"CloudWatchLogs\": {\\n                    \"Enabled\": true, \\n                    \"LogGroup\": \"/msk/poc/events\"\\n                }\\n            }\\n        }, \\n        \"EncryptionInfo\": {\\n            \"EncryptionInTransit\": {\\n                \"ClientBroker\": \"TLS_PLAINTEXT\", \\n                \"InCluster\": true\\n            }, \\n            \"EncryptionAtRest\": {\\n                \"DataVolumeKMSKeyId\": \"arn:aws:kms:us-east-1:007385147054:key/edf7751a-2f70-44c6-845e-e5e7ec3e0954\"\\n            }\\n        }, \\n        \"BrokerNodeGroupInfo\": {\\n            \"BrokerAZDistribution\": \"DEFAULT\", \\n            \"ClientSubnets\": [\\n                \"subnet-3fca7158\", \\n                \"subnet-1d8c0a33\"\\n            ], \\n            \"StorageInfo\": {\\n                \"EbsStorageInfo\": {\\n                    \"VolumeSize\": 100\\n                }\\n            }, \\n            \"SecurityGroups\": [\\n                \"sg-fc9050b1\"\\n            ], \\n            \"InstanceType\": \"kafka.t3.small\"\\n        }, \\n        \"ClusterName\": \"poc-cluster-1\", \\n        \"CurrentBrokerSoftwareInfo\": {\\n            \"KafkaVersion\": \"2.6.2\"\\n        }, \\n        \"Tags\": {}, \\n        \"CreationTime\": \"2022-01-13T15:56:20.922Z\", \\n        \"NumberOfBrokerNodes\": 2, \\n        \"ZookeeperConnectString\": \"z-2.poc-cluster-1.zegz20.c21.kafka.us-east-1.amazonaws.com:2181,z-3.poc-cluster-1.zegz20.c21.kafka.us-east-1.amazonaws.com:2181,z-1.poc-cluster-1.zegz20.c21.kafka.us-east-1.amazonaws.com:2181\", \\n        \"State\": \"ACTIVE\", \\n        \"CurrentVersion\": \"K3T4TT2Z381HKD\", \\n        \"ClientAuthentication\": {\\n            \"Tls\": {\\n                \"CertificateAuthorityArnList\": []\\n            }, \\n            \"Sasl\": {\\n                \"Scram\": {\\n                    \"Enabled\": false\\n                }\\n            }\\n        }, \\n        \"EnhancedMonitoring\": \"DEFAULT\", \\n        \"OpenMonitoring\": {\\n            \"Prometheus\": {\\n                \"NodeExporter\": {\\n                    \"EnabledInBroker\": false\\n                }, \\n                \"JmxExporter\": {\\n                    \"EnabledInBroker\": false\\n                }\\n            }\\n        }, \\n        \"ClusterArn\": \"arn:aws:kafka:us-east-1:007385147054:cluster/poc-cluster-1/7a7a5d89-0d30-4a3c-94ab-b6c4f18c0fc0-21\"\\n    }\\n}\\n'"
     },
     "metadata": {},
     "output_type": "display_data"
    }
   ],
   "source": [
    "# run Kafka CLI command; polling for results\n",
    "# prepare command string\n",
    "cmd = 'aws kafka describe-cluster --region us-east-1 --cluster-arn \"arn:aws:kafka:us-east-1:007385147054:cluster/poc-cluster-1/7a7a5d89-0d30-4a3c-94ab-b6c4f18c0fc0-21\"'\n",
    "\n",
    "# send command\n",
    "cmd_send_results = client.send_command(\n",
    "    InstanceIds=[\"i-07a0c73b0ceb6ce87\"],\n",
    "    DocumentName=\"AWS-RunShellScript\",\n",
    "    Parameters={\"commands\": [cmd]},\n",
    ")\n",
    "\n",
    "# wait 2 seconds (improve w/ polling?)\n",
    "time.sleep(2)\n",
    "\n",
    "# retrieve results of SSM command and print stdout\n",
    "cmd_get_results = client.get_command_invocation(\n",
    "    InstanceId=\"i-07a0c73b0ceb6ce87\",\n",
    "    CommandId=cmd_send_results['Command']['CommandId']\n",
    ")\n",
    "display(cmd_get_results['StandardOutputContent'])"
   ]
  },
  {
   "cell_type": "code",
   "execution_count": 7,
   "id": "dfb2d64e-ffa2-43c5-819d-44cd9c9f8301",
   "metadata": {},
   "outputs": [
    {
     "name": "stdout",
     "output_type": "stream",
     "text": [
      "0 elapsed: 0.5674312114715576\n",
      "1 elapsed: 0.21296000480651855\n",
      "2 elapsed: 0.2064208984375\n",
      "3 elapsed: 0.1791551113128662\n",
      "4 elapsed: 0.21007490158081055\n",
      "5 elapsed: 0.22102999687194824\n",
      "6 elapsed: 0.22236299514770508\n",
      "7 elapsed: 0.14899611473083496\n",
      "8 elapsed: 0.19582176208496094\n",
      "9 elapsed: 0.2171766757965088\n",
      "total elapsed: 2.402070999145508\n"
     ]
    }
   ],
   "source": [
    "# testing speed of sending SSM messages\n",
    "\n",
    "def test_ssm_cmds():\n",
    "    t0 = time.time()\n",
    "    for x in range(0,10):\n",
    "        t1 = time.time()\n",
    "        results = client.send_command(\n",
    "            InstanceIds=[\"i-07a0c73b0ceb6ce87\"],\n",
    "            DocumentName=\"AWS-RunShellScript\",\n",
    "            Parameters={\"commands\": [\"echo 'hello world'\"]},\n",
    "            CloudWatchOutputConfig={\n",
    "                \"CloudWatchOutputEnabled\":True,\n",
    "                \"CloudWatchLogGroupName\":\"/aws/ssm/runcommand/test1\"\n",
    "            }\n",
    "        )\n",
    "        print(f\"{x} elapsed: {time.time()-t1}\")\n",
    "    print(f\"total elapsed: {time.time()-t0}\")\n",
    "\n",
    "test_ssm_cmds()"
   ]
  },
  {
   "cell_type": "markdown",
   "source": [
    "## Notes for function above...\n",
    "\n",
    "The use of `CloudWatchOutputConfig` allows for writing of stdout to Cloudwatch"
   ],
   "metadata": {
    "collapsed": false,
    "pycharm": {
     "name": "#%% md\n"
    }
   }
  },
  {
   "cell_type": "code",
   "execution_count": 4,
   "outputs": [],
   "source": [
    "# testing parsing of multiple arguments\n",
    "cmd_send_results = client.send_command(\n",
    "    InstanceIds=[\"i-07a0c73b0ceb6ce87\"],\n",
    "    DocumentName=\"AWS-RunShellScript\",\n",
    "    Parameters={\"commands\": [\n",
    "        \"\"\"python -c \"import sys; import json; msg = json.loads(sys.argv[1]); print(json.dumps(msg));\" '{\"n1\":\"this is a JSON document\",\"n2\":true, \"n3\":{\"n4\":false, \"n5\":42}}'\"\"\"\n",
    "    ]},\n",
    "    CloudWatchOutputConfig={\n",
    "        \"CloudWatchOutputEnabled\":True,\n",
    "        \"CloudWatchLogGroupName\":\"/aws/ssm/runcommand/test1\"\n",
    "    }\n",
    ")"
   ],
   "metadata": {
    "collapsed": false,
    "pycharm": {
     "name": "#%%\n"
    }
   }
  },
  {
   "cell_type": "code",
   "execution_count": null,
   "outputs": [],
   "source": [],
   "metadata": {
    "collapsed": false,
    "pycharm": {
     "name": "#%%\n"
    }
   }
  }
 ],
 "metadata": {
  "kernelspec": {
   "display_name": "Python 3 (ipykernel)",
   "language": "python",
   "name": "python3"
  },
  "language_info": {
   "codemirror_mode": {
    "name": "ipython",
    "version": 3
   },
   "file_extension": ".py",
   "mimetype": "text/x-python",
   "name": "python",
   "nbconvert_exporter": "python",
   "pygments_lexer": "ipython3",
   "version": "3.10.0"
  }
 },
 "nbformat": 4,
 "nbformat_minor": 5
}