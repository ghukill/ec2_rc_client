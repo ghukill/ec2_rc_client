{
 "cells": [
  {
   "cell_type": "markdown",
   "id": "70a82bd4-7e6c-46c3-95e8-52fb231d6f27",
   "metadata": {},
   "source": [
    "# running EC2 commands via boto3\n",
    "\n",
    "Boto3 documentation: https://boto3.amazonaws.com/v1/documentation/api/latest/reference/services/ssm.html#SSM.Client.send_command\n",
    "\n",
    "Couple of gotchas while POCing:\n",
    "  * required install of SSM on EC2: https://docs.aws.amazon.com/systems-manager/latest/userguide/agent-install-al2.html\n",
    "  * required IAM permissions for SSM: https://docs.aws.amazon.com/systems-manager/latest/userguide/setup-instance-profile.html\n",
    "  * seemed to require a reboot"
   ]
  },
  {
   "cell_type": "code",
   "execution_count": null,
   "id": "8b46d074-3043-4f88-b811-c3c57d42295b",
   "metadata": {},
   "outputs": [],
   "source": [
    "import time\n",
    "import boto3"
   ]
  },
  {
   "cell_type": "code",
   "execution_count": null,
   "id": "34d7079b-651a-4a84-a5a7-8ca62067c865",
   "metadata": {},
   "outputs": [],
   "source": [
    "# init boto3 SSM client\n",
    "client = boto3.client('ssm', region_name='us-east-1')"
   ]
  },
  {
   "cell_type": "code",
   "execution_count": null,
   "id": "13413fd9-9fdc-43c5-866e-9eae21613a5b",
   "metadata": {},
   "outputs": [],
   "source": [
    "# send hello world\n",
    "results = client.send_command(\n",
    "    InstanceIds=[\"i-07a0c73b0ceb6ce87\"],\n",
    "    DocumentName=\"AWS-RunShellScript\",\n",
    "    Parameters={\"commands\": [\"echo 'hello world'\"]},\n",
    ")\n",
    "print(results)"
   ]
  },
  {
   "cell_type": "code",
   "execution_count": null,
   "id": "0ca3654e-afbb-46bf-a21b-fdc70388a521",
   "metadata": {},
   "outputs": [],
   "source": [
    "results"
   ]
  },
  {
   "cell_type": "code",
   "execution_count": null,
   "id": "ca76364e-f887-4b52-b794-3f7c1eb1e99a",
   "metadata": {},
   "outputs": [],
   "source": [
    "# get results of command (noting this won't be needed mostly)\n",
    "results = client.get_command_invocation(\n",
    "    InstanceId=\"i-07a0c73b0ceb6ce87\",\n",
    "    CommandId=\"4c43e368-523f-4c06-a35e-e4a4de27b857\"\n",
    ")"
   ]
  },
  {
   "cell_type": "code",
   "execution_count": null,
   "id": "d5c7d621-4770-44f0-ab1e-62e3bf460ec5",
   "metadata": {},
   "outputs": [],
   "source": [
    "results"
   ]
  },
  {
   "cell_type": "markdown",
   "id": "3093a45d-97d7-453f-9781-8f09b2a1c270",
   "metadata": {},
   "source": [
    "## notes on using SSM for issuing Kafka CLI commands on EC2 \n",
    "\n",
    "First pass at running Kafka CLI command failed due to following permission error:\n",
    "\n",
    "```\n",
    "An error occurred (AccessDeniedException) when calling the DescribeCluster operation: User: arn:aws:sts::007385147054:assumed-role/SSMInstanceProfile/i-07a0c73b0ceb6ce87 is not authorized to perform: kafka:DescribeCluster on resource: arn:aws:kafka:us-east-1:007385147054:cluster/poc-cluster-1/7a7a5d89-0d30-4a3c-94ab-b6c4f18c0fc0-21\\nfailed to run commands: exit status 255\n",
    "```\n",
    "\n",
    "This was resolved by granting more IAM permissions to the profile -- `arn:aws:iam::007385147054:role/SSMInstanceProfile` -- that was granted to the ECS machine that allowed SSM commands. "
   ]
  },
  {
   "cell_type": "code",
   "execution_count": null,
   "id": "42a6ad3d-3daf-4bdc-8db2-5ca2b8d5d316",
   "metadata": {},
   "outputs": [],
   "source": [
    "# run Kafka CLI command; polling for results\n",
    "# prepare command string\n",
    "cmd = 'aws kafka describe-cluster --region us-east-1 --cluster-arn \"arn:aws:kafka:us-east-1:007385147054:cluster/poc-cluster-1/7a7a5d89-0d30-4a3c-94ab-b6c4f18c0fc0-21\"'\n",
    "\n",
    "# send command\n",
    "cmd_send_results = client.send_command(\n",
    "    InstanceIds=[\"i-07a0c73b0ceb6ce87\"],\n",
    "    DocumentName=\"AWS-RunShellScript\",\n",
    "    Parameters={\"commands\": [cmd]},\n",
    ")\n",
    "\n",
    "# wait 2 seconds (improve w/ polling?)\n",
    "time.sleep(2)\n",
    "\n",
    "# retrieve results of SSM command and print stdout\n",
    "cmd_get_results = client.get_command_invocation(\n",
    "    InstanceId=\"i-07a0c73b0ceb6ce87\",\n",
    "    CommandId=cmd_send_results['Command']['CommandId']\n",
    ")\n",
    "print(cmd_get_results['StandardOutputContent'])"
   ]
  }
 ],
 "metadata": {
  "kernelspec": {
   "display_name": "Python 3 (ipykernel)",
   "language": "python",
   "name": "python3"
  },
  "language_info": {
   "codemirror_mode": {
    "name": "ipython",
    "version": 3
   },
   "file_extension": ".py",
   "mimetype": "text/x-python",
   "name": "python",
   "nbconvert_exporter": "python",
   "pygments_lexer": "ipython3",
   "version": "3.10.0"
  }
 },
 "nbformat": 4,
 "nbformat_minor": 5
}
