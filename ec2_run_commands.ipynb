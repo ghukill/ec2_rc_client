{
 "cells": [
  {
   "cell_type": "markdown",
   "id": "70a82bd4-7e6c-46c3-95e8-52fb231d6f27",
   "metadata": {},
   "source": [
    "# running EC2 commands via boto3\n",
    "\n",
    "Boto3 SSM documentation:\n",
    "https://boto3.amazonaws.com/v1/documentation/api/latest/reference/services/ssm.html#SSM.Client.send_command\n",
    "\n",
    "AWS EC2 instances:\n",
    "https://console.aws.amazon.com/ec2/v2/home?region=us-east-1#Instances:\n",
    "\n",
    "Couple of gotchas while POCing:\n",
    "  * required install of SSM on EC2: https://docs.aws.amazon.com/systems-manager/latest/userguide/agent-install-al2.html\n",
    "  * required IAM permissions for SSM: https://docs.aws.amazon.com/systems-manager/latest/userguide/setup-instance-profile.html\n",
    "  * seemed to require a reboot"
   ]
  },
  {
   "cell_type": "code",
   "execution_count": 2,
   "id": "8b46d074-3043-4f88-b811-c3c57d42295b",
   "metadata": {},
   "outputs": [],
   "source": [
    "import time\n",
    "import boto3"
   ]
  },
  {
   "cell_type": "code",
   "execution_count": 3,
   "id": "34d7079b-651a-4a84-a5a7-8ca62067c865",
   "metadata": {},
   "outputs": [],
   "source": [
    "# init boto3 SSM client\n",
    "client = boto3.client('ssm', region_name='us-east-1')"
   ]
  },
  {
   "cell_type": "code",
   "execution_count": 5,
   "id": "13413fd9-9fdc-43c5-866e-9eae21613a5b",
   "metadata": {},
   "outputs": [
    {
     "name": "stdout",
     "output_type": "stream",
     "text": [
      "{'Command': {'CommandId': 'd1f30d58-6f64-4bac-a02a-7d47d57bc399', 'DocumentName': 'AWS-RunShellScript', 'DocumentVersion': '$DEFAULT', 'Comment': '', 'ExpiresAfter': datetime.datetime(2022, 1, 15, 12, 10, 22, 624000, tzinfo=tzlocal()), 'Parameters': {'commands': [\"echo 'hello world'\"]}, 'InstanceIds': ['i-07a0c73b0ceb6ce87'], 'Targets': [], 'RequestedDateTime': datetime.datetime(2022, 1, 15, 10, 10, 22, 624000, tzinfo=tzlocal()), 'Status': 'Pending', 'StatusDetails': 'Pending', 'OutputS3Region': 'us-east-1', 'OutputS3BucketName': '', 'OutputS3KeyPrefix': '', 'MaxConcurrency': '50', 'MaxErrors': '0', 'TargetCount': 1, 'CompletedCount': 0, 'ErrorCount': 0, 'DeliveryTimedOutCount': 0, 'ServiceRole': '', 'NotificationConfig': {'NotificationArn': '', 'NotificationEvents': [], 'NotificationType': ''}, 'CloudWatchOutputConfig': {'CloudWatchLogGroupName': '', 'CloudWatchOutputEnabled': False}, 'TimeoutSeconds': 3600}, 'ResponseMetadata': {'RequestId': 'd48f1431-0068-4935-b06f-f73b1e6801d1', 'HTTPStatusCode': 200, 'HTTPHeaders': {'server': 'Server', 'date': 'Sat, 15 Jan 2022 09:10:22 GMT', 'content-type': 'application/x-amz-json-1.1', 'content-length': '818', 'connection': 'keep-alive', 'x-amzn-requestid': 'd48f1431-0068-4935-b06f-f73b1e6801d1'}, 'RetryAttempts': 0}}\n"
     ]
    }
   ],
   "source": [
    "# send hello world\n",
    "results = client.send_command(\n",
    "    InstanceIds=[\"i-07a0c73b0ceb6ce87\"],\n",
    "    DocumentName=\"AWS-RunShellScript\",\n",
    "    Parameters={\"commands\": [\"echo 'hello world'\"]},\n",
    ")\n",
    "print(results)"
   ]
  },
  {
   "cell_type": "code",
   "execution_count": null,
   "id": "0ca3654e-afbb-46bf-a21b-fdc70388a521",
   "metadata": {},
   "outputs": [],
   "source": [
    "results"
   ]
  },
  {
   "cell_type": "code",
   "execution_count": null,
   "id": "ca76364e-f887-4b52-b794-3f7c1eb1e99a",
   "metadata": {},
   "outputs": [],
   "source": [
    "# get results of command (noting this won't be needed mostly)\n",
    "results = client.get_command_invocation(\n",
    "    InstanceId=\"i-07a0c73b0ceb6ce87\",\n",
    "    CommandId=\"4c43e368-523f-4c06-a35e-e4a4de27b857\"\n",
    ")"
   ]
  },
  {
   "cell_type": "code",
   "execution_count": null,
   "id": "d5c7d621-4770-44f0-ab1e-62e3bf460ec5",
   "metadata": {},
   "outputs": [],
   "source": [
    "results"
   ]
  },
  {
   "cell_type": "markdown",
   "id": "3093a45d-97d7-453f-9781-8f09b2a1c270",
   "metadata": {},
   "source": [
    "## notes on using SSM for issuing Kafka CLI commands on EC2 \n",
    "\n",
    "First pass at running Kafka CLI command failed due to following permission error:\n",
    "\n",
    "```\n",
    "An error occurred (AccessDeniedException) when calling the DescribeCluster operation: User: arn:aws:sts::007385147054:assumed-role/SSMInstanceProfile/i-07a0c73b0ceb6ce87 is not authorized to perform: kafka:DescribeCluster on resource: arn:aws:kafka:us-east-1:007385147054:cluster/poc-cluster-1/7a7a5d89-0d30-4a3c-94ab-b6c4f18c0fc0-21\\nfailed to run commands: exit status 255\n",
    "```\n",
    "\n",
    "This was resolved by granting more IAM permissions to the profile -- `arn:aws:iam::007385147054:role/SSMInstanceProfile` -- that was granted to the ECS machine that allowed SSM commands. "
   ]
  },
  {
   "cell_type": "code",
   "execution_count": null,
   "id": "42a6ad3d-3daf-4bdc-8db2-5ca2b8d5d316",
   "metadata": {},
   "outputs": [],
   "source": [
    "# run Kafka CLI command; polling for results\n",
    "# prepare command string\n",
    "cmd = 'aws kafka describe-cluster --region us-east-1 --cluster-arn \"arn:aws:kafka:us-east-1:007385147054:cluster/poc-cluster-1/7a7a5d89-0d30-4a3c-94ab-b6c4f18c0fc0-21\"'\n",
    "\n",
    "# send command\n",
    "cmd_send_results = client.send_command(\n",
    "    InstanceIds=[\"i-07a0c73b0ceb6ce87\"],\n",
    "    DocumentName=\"AWS-RunShellScript\",\n",
    "    Parameters={\"commands\": [cmd]},\n",
    ")\n",
    "\n",
    "# wait 2 seconds (improve w/ polling?)\n",
    "time.sleep(2)\n",
    "\n",
    "# retrieve results of SSM command and print stdout\n",
    "cmd_get_results = client.get_command_invocation(\n",
    "    InstanceId=\"i-07a0c73b0ceb6ce87\",\n",
    "    CommandId=cmd_send_results['Command']['CommandId']\n",
    ")\n",
    "print(cmd_get_results['StandardOutputContent'])"
   ]
  },
  {
   "cell_type": "code",
   "execution_count": 6,
   "id": "dfb2d64e-ffa2-43c5-819d-44cd9c9f8301",
   "metadata": {},
   "outputs": [
    {
     "name": "stdout",
     "output_type": "stream",
     "text": [
      "0 elapsed: 0.6463830471038818\n",
      "1 elapsed: 0.21069979667663574\n",
      "2 elapsed: 0.26608896255493164\n",
      "3 elapsed: 0.2220611572265625\n",
      "4 elapsed: 0.2794616222381592\n",
      "5 elapsed: 0.23826336860656738\n",
      "6 elapsed: 0.16964292526245117\n",
      "7 elapsed: 0.31514930725097656\n",
      "8 elapsed: 0.24797296524047852\n",
      "9 elapsed: 0.25336503982543945\n",
      "total elapsed: 2.8519375324249268\n"
     ]
    }
   ],
   "source": [
    "# testing speed of sending SSM messages\n",
    "\n",
    "def test_ssm_cmds():\n",
    "    t0 = time.time()\n",
    "    for x in range(0,10):\n",
    "        t1 = time.time()\n",
    "        results = client.send_command(\n",
    "            InstanceIds=[\"i-07a0c73b0ceb6ce87\"],\n",
    "            DocumentName=\"AWS-RunShellScript\",\n",
    "            Parameters={\"commands\": [\"echo 'hello world'\"]},\n",
    "        )\n",
    "        print(f\"{x} elapsed: {time.time()-t1}\")\n",
    "    print(f\"total elapsed: {time.time()-t0}\")\n",
    "\n",
    "test_ssm_cmds()"
   ]
  }
 ],
 "metadata": {
  "kernelspec": {
   "display_name": "Python 3 (ipykernel)",
   "language": "python",
   "name": "python3"
  },
  "language_info": {
   "codemirror_mode": {
    "name": "ipython",
    "version": 3
   },
   "file_extension": ".py",
   "mimetype": "text/x-python",
   "name": "python",
   "nbconvert_exporter": "python",
   "pygments_lexer": "ipython3",
   "version": "3.10.0"
  }
 },
 "nbformat": 4,
 "nbformat_minor": 5
}
